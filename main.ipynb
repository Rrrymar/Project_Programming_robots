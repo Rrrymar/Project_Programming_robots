{
 "cells": [
  {
   "cell_type": "markdown",
   "id": "b412e0fc",
   "metadata": {},
   "source": [
    "Пояснения:\n",
    "Модель автомобиля: Наследуется от Bicycle с параметрами Formula Student\n",
    "\n",
    "Траектория: Сплайновая интерполяция через ключевые точки трассы\n",
    "\n",
    "PID-регулятор: Оптимизируется для минимизации ошибки слежения\n",
    "\n",
    "Визуализация: Анимация с использованием VehicleIcon и сохранение в GIF\n",
    "\n",
    "Отчет: Включает сравнение траекторий, графики управления и анализ ошибок"
   ]
  },
  {
   "cell_type": "code",
   "execution_count": 5,
   "id": "17bcae41",
   "metadata": {},
   "outputs": [],
   "source": [
    "import numpy as np\n",
    "import matplotlib.pyplot as plt\n",
    "from roboticstoolbox import Bicycle, VehicleIcon\n",
    "from scipy.interpolate import CubicSpline\n",
    "import matplotlib.animation as animation"
   ]
  },
  {
   "cell_type": "markdown",
   "id": "7db05584",
   "metadata": {},
   "source": [
    "1. Инициализация car-like модели Formula Student"
   ]
  },
  {
   "cell_type": "code",
   "execution_count": 21,
   "id": "061fbc20",
   "metadata": {},
   "outputs": [],
   "source": [
    "class FormulaStudentCar(Bicycle):\n",
    "    def __init__(self):\n",
    "        super().__init__(\n",
    "            L=1.5,\n",
    "            steer_max=np.deg2rad(30)\n",
    "        )\n",
    "        self._state = np.array([0.0, 0.0, 0.0])  # [x, y, theta]\n",
    "\n",
    "    @property\n",
    "    def x(self):\n",
    "        return self._state[0]\n",
    "\n",
    "    @x.setter\n",
    "    def x(self, value):\n",
    "        self._state[0] = value\n",
    "\n",
    "    @property\n",
    "    def y(self):\n",
    "        return self._state[1]\n",
    "\n",
    "    @y.setter\n",
    "    def y(self, value):\n",
    "        self._state[1] = value\n",
    "\n",
    "    @property\n",
    "    def theta(self):\n",
    "        return self._state[2]\n",
    "\n",
    "    @theta.setter\n",
    "    def theta(self, value):\n",
    "        self._state[2] = value\n",
    "\n",
    "    def step(self, u):\n",
    "        super().x = self._state  # Передача полного состояния\n",
    "        super().step(u)\n",
    "        self._state = super().x  # Обновление состояния"
   ]
  },
  {
   "cell_type": "code",
   "execution_count": 7,
   "id": "a0f2f159",
   "metadata": {},
   "outputs": [],
   "source": [
    "robot = FormulaStudentCar()\n"
   ]
  },
  {
   "cell_type": "markdown",
   "id": "42708e31",
   "metadata": {},
   "source": [
    "2. Параметры трассы"
   ]
  },
  {
   "cell_type": "code",
   "execution_count": 8,
   "id": "55a75be2",
   "metadata": {},
   "outputs": [],
   "source": [
    "waypoints = np.array([\n",
    "    [0, 0], [10, 2], [20, 5], [30, 10], \n",
    "    [40, 15], [50, 20], [60, 25], [70, 30]\n",
    "])\n"
   ]
  },
  {
   "cell_type": "markdown",
   "id": "8a45a8f5",
   "metadata": {},
   "source": [
    "3. Генерация сплайновой траектории"
   ]
  },
  {
   "cell_type": "code",
   "execution_count": 9,
   "id": "7f463b68",
   "metadata": {},
   "outputs": [],
   "source": [
    "t = np.linspace(0, 1, len(waypoints))\n",
    "cs_x = CubicSpline(t, waypoints[:, 0])\n",
    "cs_y = CubicSpline(t, waypoints[:, 1])\n",
    "\n",
    "traj_time = np.linspace(0, 1, 200)\n",
    "ref_path = np.column_stack([cs_x(traj_time), cs_y(traj_time)])"
   ]
  },
  {
   "cell_type": "markdown",
   "id": "def06988",
   "metadata": {},
   "source": [
    "4. PID-регулятор для управления"
   ]
  },
  {
   "cell_type": "code",
   "execution_count": 10,
   "id": "ec707198",
   "metadata": {},
   "outputs": [],
   "source": [
    "class PIDController:\n",
    "    def __init__(self, Kp, Ki, Kd):\n",
    "        self.Kp = Kp\n",
    "        self.Ki = Ki\n",
    "        self.Kd = Kd\n",
    "        self.integral = 0\n",
    "        self.prev_error = 0\n",
    "\n",
    "    def compute(self, error, dt):\n",
    "        self.integral += error * dt\n",
    "        derivative = (error - self.prev_error) / dt\n",
    "        output = self.Kp * error + self.Ki * self.integral + self.Kd * derivative\n",
    "        self.prev_error = error\n",
    "        return output"
   ]
  },
  {
   "cell_type": "markdown",
   "id": "e6e05332",
   "metadata": {},
   "source": [
    "5. Функция симуляции"
   ]
  },
  {
   "cell_type": "code",
   "execution_count": 11,
   "id": "37f067af",
   "metadata": {},
   "outputs": [],
   "source": [
    "def simulate(controller, robot, ref_path, dt=0.1):\n",
    "    x_hist = []\n",
    "    y_hist = []\n",
    "    steering_hist = []\n",
    "    velocity_hist = []\n",
    "    \n",
    "    # Инициализация начального положения через прямое присваивание\n",
    "    robot.x = ref_path[0, 0]\n",
    "    robot.y = ref_path[0, 1]\n",
    "    robot.theta = 0.0  # Начальная ориентация\n",
    "    \n",
    "    for i in range(1, len(ref_path)):\n",
    "        # Расчет ошибки\n",
    "        dx = ref_path[i, 0] - robot.x\n",
    "        dy = ref_path[i, 1] - robot.y\n",
    "        error = np.hypot(dx, dy)\n",
    "        \n",
    "        # PID-регуляция скорости\n",
    "        control_speed = controller.compute(error, dt)\n",
    "        \n",
    "        # Управление углом поворота\n",
    "        theta = np.arctan2(dy, dx)\n",
    "        steering = theta - robot.theta\n",
    "        \n",
    "        \n",
    "        # Ограничения\n",
    "        steering = np.clip(steering, -robot.steer_max, robot.steer_max)\n",
    "        control_speed = np.clip(control_speed, 0, 15)  # м/с\n",
    "        \n",
    "        # Обновление состояния\n",
    "        robot.step([control_speed, steering])\n",
    "        \n",
    "        # Сохранение данных\n",
    "        x_hist.append(robot.x)\n",
    "        y_hist.append(robot.y)\n",
    "        steering_hist.append(steering)\n",
    "        velocity_hist.append(control_speed)\n",
    "    \n",
    "    return np.array(x_hist), np.array(y_hist), np.array(steering_hist), np.array(velocity_hist)"
   ]
  },
  {
   "cell_type": "markdown",
   "id": "9d59e089",
   "metadata": {},
   "source": [
    "6. Оптимизация коэффициентов PID"
   ]
  },
  {
   "cell_type": "code",
   "execution_count": 23,
   "id": "725b20a8",
   "metadata": {},
   "outputs": [],
   "source": [
    "def cost_function(params):\n",
    "    Kp, Ki, Kd = params\n",
    "    controller = PIDController(Kp, Ki, Kd)\n",
    "    x, y, _, _ = simulate(controller, FormulaStudentCar(), ref_path)\n",
    "    error = np.sum(np.hypot(x - ref_path[:,0], y - ref_path[:,1]))\n",
    "    return error\n",
    "\n",
    "# initial_guess = [2.0, 0.1, 0.5]\n",
    "# result = minimize(cost_function, initial_guess, method='Nelder-Mead')\n",
    "# Kp_opt, Ki_opt, Kd_opt = result.x\n",
    "\n",
    "# Оптимальные параметры (пример)\n",
    "Kp_opt, Ki_opt, Kd_opt = 2.5, 0.05, 0.3"
   ]
  },
  {
   "cell_type": "code",
   "execution_count": 26,
   "id": "eb9ae7b8",
   "metadata": {},
   "outputs": [],
   "source": [
    "def simulate(controller, robot, ref_path, dt=0.1):\n",
    "    x_hist, y_hist, steering_hist, velocity_hist = [], [], [], []\n",
    "    robot._x = np.array([ref_path[0,0], ref_path[0,1], 0.0])  # Инициализация состояния\n",
    "    for i in range(1, len(ref_path)):\n",
    "        dx = ref_path[i,0] - robot.x\n",
    "        dy = ref_path[i,1] - robot.y\n",
    "        error = np.hypot(dx, dy)\n",
    "        control_speed = controller.compute(error, dt)\n",
    "        theta = np.arctan2(dy, dx)\n",
    "        steering = theta - robot.theta\n",
    "        steering = np.clip(steering, -robot.steer_max, robot.steer_max)\n",
    "        control_speed = np.clip(control_speed, 0, 15)\n",
    "        robot.step([control_speed, steering])\n",
    "        x_hist.append(robot.x)\n",
    "        y_hist.append(robot.y)\n",
    "        steering_hist.append(steering)\n",
    "        velocity_hist.append(control_speed)\n",
    "    return np.array(x_hist), np.array(y_hist), np.array(steering_hist), np.array(velocity_hist)"
   ]
  },
  {
   "cell_type": "markdown",
   "id": "a4384e19",
   "metadata": {},
   "source": [
    "7. Запуск симуляции"
   ]
  },
  {
   "cell_type": "code",
   "execution_count": 27,
   "id": "7b57eeec",
   "metadata": {},
   "outputs": [],
   "source": [
    "Kp_opt, Ki_opt, Kd_opt = 2.5, 0.05, 0.3\n",
    "robot = FormulaStudentCar()\n",
    "pid = PIDController(Kp_opt, Ki_opt, Kd_opt)\n"
   ]
  },
  {
   "cell_type": "code",
   "execution_count": 28,
   "id": "9d5d997d",
   "metadata": {},
   "outputs": [
    {
     "ename": "AttributeError",
     "evalue": "'super' object has no attribute 'x'",
     "output_type": "error",
     "traceback": [
      "\u001b[1;31m---------------------------------------------------------------------------\u001b[0m",
      "\u001b[1;31mAttributeError\u001b[0m                            Traceback (most recent call last)",
      "Cell \u001b[1;32mIn[28], line 1\u001b[0m\n\u001b[1;32m----> 1\u001b[0m x, y, steering, velocity \u001b[38;5;241m=\u001b[39m \u001b[43msimulate\u001b[49m\u001b[43m(\u001b[49m\u001b[43mpid\u001b[49m\u001b[43m,\u001b[49m\u001b[43m \u001b[49m\u001b[43mrobot\u001b[49m\u001b[43m,\u001b[49m\u001b[43m \u001b[49m\u001b[43mref_path\u001b[49m\u001b[43m)\u001b[49m\n",
      "Cell \u001b[1;32mIn[26], line 13\u001b[0m, in \u001b[0;36msimulate\u001b[1;34m(controller, robot, ref_path, dt)\u001b[0m\n\u001b[0;32m     11\u001b[0m steering \u001b[38;5;241m=\u001b[39m np\u001b[38;5;241m.\u001b[39mclip(steering, \u001b[38;5;241m-\u001b[39mrobot\u001b[38;5;241m.\u001b[39msteer_max, robot\u001b[38;5;241m.\u001b[39msteer_max)\n\u001b[0;32m     12\u001b[0m control_speed \u001b[38;5;241m=\u001b[39m np\u001b[38;5;241m.\u001b[39mclip(control_speed, \u001b[38;5;241m0\u001b[39m, \u001b[38;5;241m15\u001b[39m)\n\u001b[1;32m---> 13\u001b[0m \u001b[43mrobot\u001b[49m\u001b[38;5;241;43m.\u001b[39;49m\u001b[43mstep\u001b[49m\u001b[43m(\u001b[49m\u001b[43m[\u001b[49m\u001b[43mcontrol_speed\u001b[49m\u001b[43m,\u001b[49m\u001b[43m \u001b[49m\u001b[43msteering\u001b[49m\u001b[43m]\u001b[49m\u001b[43m)\u001b[49m\n\u001b[0;32m     14\u001b[0m x_hist\u001b[38;5;241m.\u001b[39mappend(robot\u001b[38;5;241m.\u001b[39mx)\n\u001b[0;32m     15\u001b[0m y_hist\u001b[38;5;241m.\u001b[39mappend(robot\u001b[38;5;241m.\u001b[39my)\n",
      "Cell \u001b[1;32mIn[21], line 34\u001b[0m, in \u001b[0;36mFormulaStudentCar.step\u001b[1;34m(self, u)\u001b[0m\n\u001b[0;32m     33\u001b[0m \u001b[38;5;28;01mdef\u001b[39;00m\u001b[38;5;250m \u001b[39m\u001b[38;5;21mstep\u001b[39m(\u001b[38;5;28mself\u001b[39m, u):\n\u001b[1;32m---> 34\u001b[0m     \u001b[38;5;28;43msuper\u001b[39;49m\u001b[43m(\u001b[49m\u001b[43m)\u001b[49m\u001b[38;5;241;43m.\u001b[39;49m\u001b[43mx\u001b[49m \u001b[38;5;241m=\u001b[39m \u001b[38;5;28mself\u001b[39m\u001b[38;5;241m.\u001b[39m_state  \u001b[38;5;66;03m# Передача полного состояния\u001b[39;00m\n\u001b[0;32m     35\u001b[0m     \u001b[38;5;28msuper\u001b[39m()\u001b[38;5;241m.\u001b[39mstep(u)\n\u001b[0;32m     36\u001b[0m     \u001b[38;5;28mself\u001b[39m\u001b[38;5;241m.\u001b[39m_state \u001b[38;5;241m=\u001b[39m \u001b[38;5;28msuper\u001b[39m()\u001b[38;5;241m.\u001b[39mx\n",
      "\u001b[1;31mAttributeError\u001b[0m: 'super' object has no attribute 'x'"
     ]
    }
   ],
   "source": [
    "x, y, steering, velocity = simulate(pid, robot, ref_path)"
   ]
  },
  {
   "cell_type": "markdown",
   "id": "cc62c3a5",
   "metadata": {},
   "source": [
    "8. Визуализация"
   ]
  },
  {
   "cell_type": "code",
   "execution_count": null,
   "id": "e53164d4",
   "metadata": {},
   "outputs": [
    {
     "ename": "NameError",
     "evalue": "name 'x' is not defined",
     "output_type": "error",
     "traceback": [
      "\u001b[1;31m---------------------------------------------------------------------------\u001b[0m",
      "\u001b[1;31mNameError\u001b[0m                                 Traceback (most recent call last)",
      "Cell \u001b[1;32mIn[24], line 3\u001b[0m\n\u001b[0;32m      1\u001b[0m plt\u001b[38;5;241m.\u001b[39mfigure(figsize\u001b[38;5;241m=\u001b[39m(\u001b[38;5;241m12\u001b[39m, \u001b[38;5;241m6\u001b[39m))\n\u001b[0;32m      2\u001b[0m plt\u001b[38;5;241m.\u001b[39mplot(ref_path[:,\u001b[38;5;241m0\u001b[39m], ref_path[:,\u001b[38;5;241m1\u001b[39m], \u001b[38;5;124m'\u001b[39m\u001b[38;5;124mr--\u001b[39m\u001b[38;5;124m'\u001b[39m, label\u001b[38;5;241m=\u001b[39m\u001b[38;5;124m'\u001b[39m\u001b[38;5;124mReference Path\u001b[39m\u001b[38;5;124m'\u001b[39m)\n\u001b[1;32m----> 3\u001b[0m plt\u001b[38;5;241m.\u001b[39mplot(\u001b[43mx\u001b[49m, y, \u001b[38;5;124m'\u001b[39m\u001b[38;5;124mb\u001b[39m\u001b[38;5;124m'\u001b[39m, label\u001b[38;5;241m=\u001b[39m\u001b[38;5;124m'\u001b[39m\u001b[38;5;124mActual Path\u001b[39m\u001b[38;5;124m'\u001b[39m)\n\u001b[0;32m      4\u001b[0m plt\u001b[38;5;241m.\u001b[39mlegend()\n\u001b[0;32m      5\u001b[0m plt\u001b[38;5;241m.\u001b[39mtitle(\u001b[38;5;124m'\u001b[39m\u001b[38;5;124mTrajectory Tracking\u001b[39m\u001b[38;5;124m'\u001b[39m)\n",
      "\u001b[1;31mNameError\u001b[0m: name 'x' is not defined"
     ]
    },
    {
     "data": {
      "image/png": "[encoded data removed]",
      "text/plain": [
       "<Figure size 1200x600 with 1 Axes>"
      ]
     },
     "metadata": {},
     "output_type": "display_data"
    }
   ],
   "source": [
    "plt.figure(figsize=(12, 6))\n",
    "plt.plot(ref_path[:,0], ref_path[:,1], 'r--', label='Reference Path')\n",
    "plt.plot(x, y, 'b', label='Actual Path')\n",
    "plt.legend()\n",
    "plt.title('Trajectory Tracking')\n",
    "plt.xlabel('X, m')\n",
    "plt.ylabel('Y, m')\n",
    "plt.grid(True)\n",
    "plt.show()"
   ]
  },
  {
   "cell_type": "markdown",
   "id": "372f30e7",
   "metadata": {},
   "source": [
    "9. Создание анимации"
   ]
  },
  {
   "cell_type": "code",
   "execution_count": null,
   "id": "b02c68bb",
   "metadata": {},
   "outputs": [
    {
     "ename": "ValueError",
     "evalue": "file data\\car.png not found locally or in rtbdata",
     "output_type": "error",
     "traceback": [
      "\u001b[1;31m---------------------------------------------------------------------------\u001b[0m",
      "\u001b[1;31mValueError\u001b[0m                                Traceback (most recent call last)",
      "Cell \u001b[1;32mIn[10], line 3\u001b[0m\n\u001b[0;32m      1\u001b[0m fig \u001b[38;5;241m=\u001b[39m plt\u001b[38;5;241m.\u001b[39mfigure(figsize\u001b[38;5;241m=\u001b[39m(\u001b[38;5;241m10\u001b[39m, \u001b[38;5;241m8\u001b[39m))\n\u001b[0;32m      2\u001b[0m ax \u001b[38;5;241m=\u001b[39m fig\u001b[38;5;241m.\u001b[39madd_subplot(\u001b[38;5;241m111\u001b[39m)\n\u001b[1;32m----> 3\u001b[0m car_icon \u001b[38;5;241m=\u001b[39m \u001b[43mVehicleIcon\u001b[49m\u001b[43m(\u001b[49m\u001b[38;5;124;43m'\u001b[39;49m\u001b[38;5;124;43mcar\u001b[39;49m\u001b[38;5;124;43m'\u001b[39;49m\u001b[43m,\u001b[49m\u001b[43m \u001b[49m\u001b[43mscale\u001b[49m\u001b[38;5;241;43m=\u001b[39;49m\u001b[38;5;241;43m2\u001b[39;49m\u001b[43m)\u001b[49m\n\u001b[0;32m      5\u001b[0m \u001b[38;5;28;01mdef\u001b[39;00m\u001b[38;5;250m \u001b[39m\u001b[38;5;21mupdate\u001b[39m(frame):\n\u001b[0;32m      6\u001b[0m     ax\u001b[38;5;241m.\u001b[39mclear()\n",
      "File \u001b[1;32mc:\\Users\\Vladr\\AppData\\Local\\Programs\\Python\\Python38\\lib\\site-packages\\roboticstoolbox\\mobile\\Animations.py:330\u001b[0m, in \u001b[0;36mVehicleIcon.__init__\u001b[1;34m(self, filename, origin, scale, rotation)\u001b[0m\n\u001b[0;32m    327\u001b[0m \u001b[38;5;28;01mif\u001b[39;00m \u001b[38;5;124m\"\u001b[39m\u001b[38;5;124m.\u001b[39m\u001b[38;5;124m\"\u001b[39m \u001b[38;5;129;01mnot\u001b[39;00m \u001b[38;5;129;01min\u001b[39;00m filename:\n\u001b[0;32m    328\u001b[0m     \u001b[38;5;28;01mtry\u001b[39;00m:\n\u001b[0;32m    329\u001b[0m         \u001b[38;5;66;03m# try the default folder first\u001b[39;00m\n\u001b[1;32m--> 330\u001b[0m         image \u001b[38;5;241m=\u001b[39m \u001b[43mrtb_load_data\u001b[49m\u001b[43m(\u001b[49m\n\u001b[0;32m    331\u001b[0m \u001b[43m            \u001b[49m\u001b[43mPath\u001b[49m\u001b[43m(\u001b[49m\u001b[38;5;124;43m\"\u001b[39;49m\u001b[38;5;124;43mdata\u001b[39;49m\u001b[38;5;124;43m\"\u001b[39;49m\u001b[43m)\u001b[49m\u001b[43m \u001b[49m\u001b[38;5;241;43m/\u001b[39;49m\u001b[43m \u001b[49m\u001b[43mPath\u001b[49m\u001b[43m(\u001b[49m\u001b[43mfilename\u001b[49m\u001b[43m \u001b[49m\u001b[38;5;241;43m+\u001b[39;49m\u001b[43m \u001b[49m\u001b[38;5;124;43m\"\u001b[39;49m\u001b[38;5;124;43m.png\u001b[39;49m\u001b[38;5;124;43m\"\u001b[39;49m\u001b[43m)\u001b[49m\u001b[43m,\u001b[49m\u001b[43m \u001b[49m\u001b[43mplt\u001b[49m\u001b[38;5;241;43m.\u001b[39;49m\u001b[43mimread\u001b[49m\n\u001b[0;32m    332\u001b[0m \u001b[43m        \u001b[49m\u001b[43m)\u001b[49m\n\u001b[0;32m    333\u001b[0m     \u001b[38;5;28;01mexcept\u001b[39;00m \u001b[38;5;167;01mFileNotFoundError\u001b[39;00m:\n\u001b[0;32m    334\u001b[0m         \u001b[38;5;28;01mraise\u001b[39;00m \u001b[38;5;167;01mValueError\u001b[39;00m(\u001b[38;5;124mf\u001b[39m\u001b[38;5;124m\"\u001b[39m\u001b[38;5;132;01m{\u001b[39;00mfilename\u001b[38;5;132;01m}\u001b[39;00m\u001b[38;5;124m is not a provided icon\u001b[39m\u001b[38;5;124m\"\u001b[39m)\n",
      "File \u001b[1;32mc:\\Users\\Vladr\\AppData\\Local\\Programs\\Python\\Python38\\lib\\site-packages\\roboticstoolbox\\tools\\data.py:106\u001b[0m, in \u001b[0;36mrtb_load_data\u001b[1;34m(filename, handler, **kwargs)\u001b[0m\n\u001b[0;32m     80\u001b[0m \u001b[38;5;28;01mdef\u001b[39;00m\u001b[38;5;250m \u001b[39m\u001b[38;5;21mrtb_load_data\u001b[39m(filename, handler, \u001b[38;5;241m*\u001b[39m\u001b[38;5;241m*\u001b[39mkwargs):\n\u001b[0;32m     81\u001b[0m \u001b[38;5;250m    \u001b[39m\u001b[38;5;124;03m\"\"\"\u001b[39;00m\n\u001b[0;32m     82\u001b[0m \u001b[38;5;124;03m    Load toolbox data file\u001b[39;00m\n\u001b[0;32m     83\u001b[0m \n\u001b[1;32m   (...)\u001b[0m\n\u001b[0;32m    104\u001b[0m \u001b[38;5;124;03m    :seealso: :func:`path_to_datafile`\u001b[39;00m\n\u001b[0;32m    105\u001b[0m \u001b[38;5;124;03m    \"\"\"\u001b[39;00m\n\u001b[1;32m--> 106\u001b[0m     path \u001b[38;5;241m=\u001b[39m \u001b[43mrtb_path_to_datafile\u001b[49m\u001b[43m(\u001b[49m\u001b[43mfilename\u001b[49m\u001b[43m,\u001b[49m\u001b[43m \u001b[49m\u001b[43mlocal\u001b[49m\u001b[38;5;241;43m=\u001b[39;49m\u001b[38;5;28;43;01mFalse\u001b[39;49;00m\u001b[43m)\u001b[49m\n\u001b[0;32m    107\u001b[0m     \u001b[38;5;28;01mreturn\u001b[39;00m handler(path, \u001b[38;5;241m*\u001b[39m\u001b[38;5;241m*\u001b[39mkwargs)\n",
      "File \u001b[1;32mc:\\Users\\Vladr\\AppData\\Local\\Programs\\Python\\Python38\\lib\\site-packages\\roboticstoolbox\\tools\\data.py:155\u001b[0m, in \u001b[0;36mrtb_path_to_datafile\u001b[1;34m(local, *filename)\u001b[0m\n\u001b[0;32m    153\u001b[0m     \u001b[38;5;28;01mreturn\u001b[39;00m path\u001b[38;5;241m.\u001b[39mresolve()\n\u001b[0;32m    154\u001b[0m \u001b[38;5;28;01melse\u001b[39;00m:\n\u001b[1;32m--> 155\u001b[0m     \u001b[38;5;28;01mraise\u001b[39;00m \u001b[38;5;167;01mValueError\u001b[39;00m(\u001b[38;5;124mf\u001b[39m\u001b[38;5;124m\"\u001b[39m\u001b[38;5;124mfile \u001b[39m\u001b[38;5;132;01m{\u001b[39;00mfilename\u001b[38;5;132;01m}\u001b[39;00m\u001b[38;5;124m not found locally or in rtbdata\u001b[39m\u001b[38;5;124m\"\u001b[39m)\n",
      "\u001b[1;31mValueError\u001b[0m: file data\\car.png not found locally or in rtbdata"
     ]
    },
    {
     "data": {
      "image/png": "[encoded data removed]",
      "text/plain": [
       "<Figure size 1000x800 with 1 Axes>"
      ]
     },
     "metadata": {},
     "output_type": "display_data"
    }
   ],
   "source": [
    "fig = plt.figure(figsize=(10, 8))\n",
    "ax = fig.add_subplot(111)\n",
    "car_icon = VehicleIcon('car', scale=2)\n",
    "\n",
    "def update(frame):\n",
    "    ax.clear()\n",
    "    ax.plot(ref_path[:,0], ref_path[:,1], 'r--')\n",
    "    ax.plot(x[:frame], y[:frame], 'b')\n",
    "    car_icon.plot(x[frame], y[frame], np.arctan2(y[frame]-y[frame-1], x[frame]-x[frame-1]))\n",
    "    ax.set_xlim(min(x)-5, max(x)+5)\n",
    "    ax.set_ylim(min(y)-5, max(y)+5)\n",
    "    return ax\n",
    "\n",
    "ani = animation.FuncAnimation(fig, update, frames=len(x), interval=50)\n",
    "ani.save('formula_student.gif', writer='imagemagick')"
   ]
  },
  {
   "cell_type": "code",
   "execution_count": null,
   "id": "51cdeb57",
   "metadata": {},
   "outputs": [],
   "source": []
  }
 ],
 "metadata": {
  "kernelspec": {
   "display_name": "Python 3",
   "language": "python",
   "name": "python3"
  },
  "language_info": {
   "codemirror_mode": {
    "name": "ipython",
    "version": 3
   },
   "file_extension": ".py",
   "mimetype": "text/x-python",
   "name": "python",
   "nbconvert_exporter": "python",
   "pygments_lexer": "ipython3",
   "version": "3.8.10"
  }
 },
 "nbformat": 4,
 "nbformat_minor": 5
}
